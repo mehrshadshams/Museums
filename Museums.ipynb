{
  "nbformat": 4,
  "nbformat_minor": 0,
  "metadata": {
    "colab": {
      "name": "Museums.ipynb",
      "version": "0.3.2",
      "provenance": [],
      "collapsed_sections": [],
      "include_colab_link": true
    },
    "kernelspec": {
      "name": "python3",
      "display_name": "Python 3"
    }
  },
  "cells": [
    {
      "cell_type": "markdown",
      "metadata": {
        "id": "view-in-github",
        "colab_type": "text"
      },
      "source": [
        "<a href=\"https://colab.research.google.com/github/mehrshadshams/Museums/blob/master/Museums.ipynb\" target=\"_parent\"><img src=\"https://colab.research.google.com/assets/colab-badge.svg\" alt=\"Open In Colab\"/></a>"
      ]
    },
    {
      "metadata": {
        "id": "nJdMQjiYd1eL",
        "colab_type": "code",
        "colab": {}
      },
      "cell_type": "code",
      "source": [
        "import io\n",
        "import re\n",
        "import json\n",
        "import requests\n",
        "import seaborn as sns\n",
        "import matplotlib.pyplot as plt\n",
        "\n",
        "import numpy as np\n",
        "import pandas as pd"
      ],
      "execution_count": 0,
      "outputs": []
    },
    {
      "metadata": {
        "id": "5JDyoa9Es3fW",
        "colab_type": "text"
      },
      "cell_type": "markdown",
      "source": [
        "Installing Basic Requirements"
      ]
    },
    {
      "metadata": {
        "id": "pXlJ0M0ceBra",
        "colab_type": "code",
        "outputId": "8d404fa7-cd24-4665-f740-a2c7e6b746cf",
        "colab": {
          "base_uri": "https://localhost:8080/",
          "height": 193
        }
      },
      "cell_type": "code",
      "source": [
        "!pip install wikipedia beautifulsoup4 pycountry requests_cache"
      ],
      "execution_count": 0,
      "outputs": [
        {
          "output_type": "stream",
          "text": [
            "Requirement already satisfied: wikipedia in /usr/local/lib/python3.6/dist-packages (1.4.0)\n",
            "Requirement already satisfied: beautifulsoup4 in /usr/local/lib/python3.6/dist-packages (4.6.3)\n",
            "Requirement already satisfied: pycountry in /usr/local/lib/python3.6/dist-packages (18.12.8)\n",
            "Requirement already satisfied: requests_cache in /usr/local/lib/python3.6/dist-packages (0.4.13)\n",
            "Requirement already satisfied: requests<3.0.0,>=2.0.0 in /usr/local/lib/python3.6/dist-packages (from wikipedia) (2.18.4)\n",
            "Requirement already satisfied: chardet<3.1.0,>=3.0.2 in /usr/local/lib/python3.6/dist-packages (from requests<3.0.0,>=2.0.0->wikipedia) (3.0.4)\n",
            "Requirement already satisfied: idna<2.7,>=2.5 in /usr/local/lib/python3.6/dist-packages (from requests<3.0.0,>=2.0.0->wikipedia) (2.6)\n",
            "Requirement already satisfied: certifi>=2017.4.17 in /usr/local/lib/python3.6/dist-packages (from requests<3.0.0,>=2.0.0->wikipedia) (2018.11.29)\n",
            "Requirement already satisfied: urllib3<1.23,>=1.21.1 in /usr/local/lib/python3.6/dist-packages (from requests<3.0.0,>=2.0.0->wikipedia) (1.22)\n"
          ],
          "name": "stdout"
        }
      ]
    },
    {
      "metadata": {
        "id": "HvZyyXL_eTwl",
        "colab_type": "code",
        "colab": {}
      },
      "cell_type": "code",
      "source": [
        "import wikipedia\n",
        "import pycountry\n",
        "import requests_cache\n",
        "\n",
        "from collections import namedtuple\n",
        "from bs4 import BeautifulSoup\n"
      ],
      "execution_count": 0,
      "outputs": []
    },
    {
      "metadata": {
        "id": "tBQ35RBDNISD",
        "colab_type": "code",
        "colab": {}
      },
      "cell_type": "code",
      "source": [
        "requests_cache.install_cache('req_cache')"
      ],
      "execution_count": 0,
      "outputs": []
    },
    {
      "metadata": {
        "id": "Up_JXoibkfnu",
        "colab_type": "code",
        "colab": {}
      },
      "cell_type": "code",
      "source": [
        "Museum = namedtuple('Museum', ['name', 'country', 'city', 'visitors', 'population', 'year'])"
      ],
      "execution_count": 0,
      "outputs": []
    },
    {
      "metadata": {
        "id": "DmMvp1EbDEQe",
        "colab_type": "code",
        "colab": {}
      },
      "cell_type": "code",
      "source": [
        "countries = pycountry.countries"
      ],
      "execution_count": 0,
      "outputs": []
    },
    {
      "metadata": {
        "id": "jUflI2Z2s-bb",
        "colab_type": "text"
      },
      "cell_type": "markdown",
      "source": [
        "Loading World population data from UN data export"
      ]
    },
    {
      "metadata": {
        "id": "SFB_1fBy_-4i",
        "colab_type": "code",
        "colab": {}
      },
      "cell_type": "code",
      "source": [
        "un_city_pop = pd.read_csv(\"https://raw.githubusercontent.com/mehrshadshams/Museums/master/data.csv\")\n",
        "un_city_pop = un_city_pop[un_city_pop['Sex'] == 'Both Sexes']\n",
        "un_city_pop.City = un_city_pop.City.str.lower()"
      ],
      "execution_count": 0,
      "outputs": []
    },
    {
      "metadata": {
        "id": "AFamjdHrkW2J",
        "colab_type": "code",
        "colab": {}
      },
      "cell_type": "code",
      "source": [
        "regex = r\"(\\d{4}).*\"\n",
        "\n",
        "# To Deal with name differences between Wikipedia and UN data export\n",
        "def normalize_country_name(name):\n",
        "  if '(' in name:\n",
        "    idx = name.index('(')\n",
        "    if idx >= 0: \n",
        "      name = name[:idx].strip()\n",
        "  return name\n",
        "\n",
        "\n",
        "def normalize_city_name(name):\n",
        "  if \",\" in name:\n",
        "    idx = name.index(',')\n",
        "    if idx >= 0:\n",
        "      name = name[:idx].strip()\n",
        "  return name\n",
        "\n",
        "\n",
        "def find_country_by_name(name):\n",
        "  name = name.lower()\n",
        "  if name.startswith('vatican'):\n",
        "    name = 'Holy See (Vatican City State)'.lower()\n",
        "  elif name.startswith('south korea'):\n",
        "    name = 'Korea, Republic of'.lower()\n",
        "  \n",
        "  def filter_func(x):\n",
        "    return (hasattr(x, 'common_name') and x.common_name.lower() == name) or \\\n",
        "          x.name.lower().startswith(name)\n",
        "  \n",
        "  temp = list(filter(lambda x: x.name.lower() == name, countries))\n",
        "  if len(temp) == 0:\n",
        "    temp = list(filter(filter_func, countries))\n",
        "    if len(temp) == 0:\n",
        "      raise ValueError(\"invalid country \" + name)\n",
        "  return temp[0]\n",
        "\n",
        "\n",
        "def get_city_population(city, country):\n",
        "  country_name = normalize_country_name(country.name)\n",
        "  city_name = normalize_city_name(city.lower())\n",
        "\n",
        "  \n",
        "  print(\"Find population for Country='{0}', City='{1}'\".format(country.name, city))\n",
        "  url = \"https://public.opendatasoft.com/api/records/1.0/search/?dataset=worldcitiespop&q={0}&sort=population&facet=country&refine.country={1}\"\n",
        "  req = requests.get(url.format(city_name, country.alpha_2.lower()))\n",
        "  req.raise_for_status()\n",
        "   \n",
        "  data = req.json()\n",
        "\n",
        "  if len(data) > 0:\n",
        "    records = data['records']\n",
        "    if len(records) > 0:\n",
        "      fields = records[0]['fields']\n",
        "      if 'population' in fields:  \n",
        "        return fields['population']\n",
        "      \n",
        "  if city_name.endswith('city'):\n",
        "    city_name = city_name[:city_name.index('city')].strip()\n",
        "    return get_city_population(city_name, country)\n",
        "  else:\n",
        "    df = un_city_pop[un_city_pop['Country or Area'].str.contains(country_name, na=False)]\n",
        "    df = df[df['City'].str.contains(city_name, na=False)].sort_values(['Year'], ascending=False)\n",
        "    if len(df) > 0:\n",
        "      return int(df[0:1]['Value'].values[0])\n",
        "  \n",
        "  return -1\n",
        "\n",
        "\n",
        "def extract_list_of_musueum_data():\n",
        "  m = wikipedia.page('List_of_most_visited_museums')\n",
        "  soup = BeautifulSoup(m.html(), 'html.parser')\n",
        "  table = soup.find_all('table')[0]\n",
        "  rows = table.find_all('tr')[2:]\n",
        "  data = []\n",
        "  for row in rows:\n",
        "    cells = row.find_all('td')\n",
        "    name = cells[0].find('a').attrs['title']\n",
        "    \n",
        "    cell_links = cells[1].find_all('a')\n",
        "    country_name = cell_links[0].attrs['title']\n",
        "    \n",
        "    country = find_country_by_name(country_name)   \n",
        "    city = cell_links[1].attrs['title']\n",
        "    visits = int(cells[2].text.replace(',',''))\n",
        "        \n",
        "    matches = list(re.finditer(regex, str(cells[3].text), re.MULTILINE))\n",
        "    year = int(matches[0].groups()[0])\n",
        "    \n",
        "    population = get_city_population(city, country)\n",
        "    \n",
        "    data.append(Museum(name, country, city, visits, population, year))\n",
        "    \n",
        "  return data"
      ],
      "execution_count": 0,
      "outputs": []
    },
    {
      "metadata": {
        "id": "mPhE3lbeeWsD",
        "colab_type": "code",
        "outputId": "ad240610-af39-4521-f608-dc77019233f0",
        "colab": {
          "base_uri": "https://localhost:8080/",
          "height": 1088
        }
      },
      "cell_type": "code",
      "source": [
        "data = extract_list_of_musueum_data()"
      ],
      "execution_count": 0,
      "outputs": [
        {
          "output_type": "stream",
          "text": [
            "Find population for Country='France', City='Paris'\n",
            "Find population for Country='China', City='Beijing'\n",
            "Find population for Country='United States', City='Washington, D.C.'\n",
            "Find population for Country='United States', City='New York City'\n",
            "Find population for Country='United States', City='new york'\n",
            "Find population for Country='Holy See (Vatican City State)', City='Vatican City'\n",
            "Find population for Country='Holy See (Vatican City State)', City='vatican'\n",
            "Find population for Country='China', City='Shanghai'\n",
            "Find population for Country='United States', City='Washington, D.C.'\n",
            "Find population for Country='United Kingdom', City='London'\n",
            "Find population for Country='United Kingdom', City='London'\n",
            "Find population for Country='United States', City='Washington, D.C.'\n",
            "Find population for Country='United Kingdom', City='London'\n",
            "Find population for Country='United States', City='New York City'\n",
            "Find population for Country='United States', City='new york'\n",
            "Find population for Country='Taiwan, Province of China', City='Taipei'\n",
            "Find population for Country='United Kingdom', City='London'\n",
            "Find population for Country='Russian Federation', City='Saint Petersburg'\n",
            "Find population for Country='China', City='Beijing'\n",
            "Find population for Country='Spain', City='Madrid'\n",
            "Find population for Country='United States', City='Washington, D.C.'\n",
            "Find population for Country='United Kingdom', City='London'\n",
            "Find population for Country='China', City='Hangzhou'\n",
            "Find population for Country='Korea, Republic of', City='Seoul'\n",
            "Find population for Country='France', City='Paris'\n",
            "Find population for Country='China', City='Lanzhou'\n",
            "Find population for Country='China', City='Nanjing'\n",
            "Find population for Country='United Kingdom', City='London'\n",
            "Find population for Country='United Kingdom', City='London'\n",
            "Find population for Country='France', City='Paris'\n",
            "Find population for Country='United States', City='New York City'\n",
            "Find population for Country='United States', City='new york'\n",
            "Find population for Country='Japan', City='Tokyo'\n",
            "Find population for Country='Spain', City='Madrid'\n",
            "Find population for Country='China', City='Chongqing'\n",
            "Find population for Country='United States', City='New York City'\n",
            "Find population for Country='United States', City='new york'\n",
            "Find population for Country='Korea, Republic of', City='Seoul'\n",
            "Find population for Country='China', City='Xi'an'\n",
            "Find population for Country='United Kingdom', City='London'\n",
            "Find population for Country='Japan', City='Tokyo'\n",
            "Find population for Country='China', City='Chongqing'\n",
            "Find population for Country='China', City='Shanghai'\n",
            "Find population for Country='Australia', City='Melbourne'\n",
            "Find population for Country='Turkey', City='Konya'\n",
            "Find population for Country='France', City='Paris'\n",
            "Find population for Country='United States', City='Washington, D.C.'\n",
            "Find population for Country='Taiwan, Province of China', City='Kaohsiung'\n",
            "Find population for Country='Mexico', City='Mexico City'\n",
            "Find population for Country='Mexico', City='mexico'\n",
            "Find population for Country='United States', City='Houston'\n",
            "Find population for Country='Italy', City='Florence'\n",
            "Find population for Country='Netherlands', City='Amsterdam'\n",
            "Find population for Country='United Kingdom', City='Edinburgh'\n",
            "Find population for Country='Mexico', City='Mexico City'\n",
            "Find population for Country='Mexico', City='mexico'\n",
            "Find population for Country='Poland', City='Oświęcim'\n",
            "Find population for Country='Netherlands', City='Amsterdam'\n",
            "Find population for Country='China', City='Chongqing'\n",
            "Find population for Country='China', City='Shanghai'\n",
            "Find population for Country='United States', City='Los Angeles'\n",
            "Find population for Country='Russian Federation', City='Moscow'\n"
          ],
          "name": "stdout"
        }
      ]
    },
    {
      "metadata": {
        "id": "ofT32PW5yQgJ",
        "colab_type": "code",
        "outputId": "b40a20b4-664f-4c7c-cfc0-14825ef41415",
        "colab": {
          "base_uri": "https://localhost:8080/",
          "height": 35
        }
      },
      "cell_type": "code",
      "source": [
        "list(filter(lambda m: m.population == -1, data))"
      ],
      "execution_count": 0,
      "outputs": [
        {
          "output_type": "execute_result",
          "data": {
            "text/plain": [
              "[]"
            ]
          },
          "metadata": {
            "tags": []
          },
          "execution_count": 10
        }
      ]
    },
    {
      "metadata": {
        "id": "q6p5bWGOMxLO",
        "colab_type": "code",
        "colab": {}
      },
      "cell_type": "code",
      "source": [
        "sns.set(color_codes=True)\n"
      ],
      "execution_count": 0,
      "outputs": []
    },
    {
      "metadata": {
        "id": "trG8pEBaN27k",
        "colab_type": "code",
        "colab": {}
      },
      "cell_type": "code",
      "source": [
        "df = pd.DataFrame(data)\n",
        "df['country'] = df['country'].apply(lambda x: x.alpha_2)"
      ],
      "execution_count": 0,
      "outputs": []
    },
    {
      "metadata": {
        "id": "Y0kL-ul2OvEW",
        "colab_type": "code",
        "outputId": "3becfb58-61a4-4fd4-f99f-53ea79c268f4",
        "colab": {
          "base_uri": "https://localhost:8080/",
          "height": 198
        }
      },
      "cell_type": "code",
      "source": [
        "df.head()"
      ],
      "execution_count": 0,
      "outputs": [
        {
          "output_type": "execute_result",
          "data": {
            "text/html": [
              "<div>\n",
              "<style scoped>\n",
              "    .dataframe tbody tr th:only-of-type {\n",
              "        vertical-align: middle;\n",
              "    }\n",
              "\n",
              "    .dataframe tbody tr th {\n",
              "        vertical-align: top;\n",
              "    }\n",
              "\n",
              "    .dataframe thead th {\n",
              "        text-align: right;\n",
              "    }\n",
              "</style>\n",
              "<table border=\"1\" class=\"dataframe\">\n",
              "  <thead>\n",
              "    <tr style=\"text-align: right;\">\n",
              "      <th></th>\n",
              "      <th>name</th>\n",
              "      <th>country</th>\n",
              "      <th>city</th>\n",
              "      <th>visitors</th>\n",
              "      <th>population</th>\n",
              "      <th>year</th>\n",
              "    </tr>\n",
              "  </thead>\n",
              "  <tbody>\n",
              "    <tr>\n",
              "      <th>0</th>\n",
              "      <td>Louvre</td>\n",
              "      <td>FR</td>\n",
              "      <td>Paris</td>\n",
              "      <td>8100000</td>\n",
              "      <td>2110694</td>\n",
              "      <td>2017</td>\n",
              "    </tr>\n",
              "    <tr>\n",
              "      <th>1</th>\n",
              "      <td>National Museum of China</td>\n",
              "      <td>CN</td>\n",
              "      <td>Beijing</td>\n",
              "      <td>8062625</td>\n",
              "      <td>19612368</td>\n",
              "      <td>2017</td>\n",
              "    </tr>\n",
              "    <tr>\n",
              "      <th>2</th>\n",
              "      <td>National Air and Space Museum</td>\n",
              "      <td>US</td>\n",
              "      <td>Washington, D.C.</td>\n",
              "      <td>7000000</td>\n",
              "      <td>552433</td>\n",
              "      <td>2017</td>\n",
              "    </tr>\n",
              "    <tr>\n",
              "      <th>3</th>\n",
              "      <td>Metropolitan Museum of Art</td>\n",
              "      <td>US</td>\n",
              "      <td>New York City</td>\n",
              "      <td>6692909</td>\n",
              "      <td>8107916</td>\n",
              "      <td>2017</td>\n",
              "    </tr>\n",
              "    <tr>\n",
              "      <th>4</th>\n",
              "      <td>Vatican Museums</td>\n",
              "      <td>VA</td>\n",
              "      <td>Vatican City</td>\n",
              "      <td>6427277</td>\n",
              "      <td>451</td>\n",
              "      <td>2017</td>\n",
              "    </tr>\n",
              "  </tbody>\n",
              "</table>\n",
              "</div>"
            ],
            "text/plain": [
              "                            name country              city  visitors  \\\n",
              "0                         Louvre      FR             Paris   8100000   \n",
              "1       National Museum of China      CN           Beijing   8062625   \n",
              "2  National Air and Space Museum      US  Washington, D.C.   7000000   \n",
              "3     Metropolitan Museum of Art      US     New York City   6692909   \n",
              "4                Vatican Museums      VA      Vatican City   6427277   \n",
              "\n",
              "   population  year  \n",
              "0     2110694  2017  \n",
              "1    19612368  2017  \n",
              "2      552433  2017  \n",
              "3     8107916  2017  \n",
              "4         451  2017  "
            ]
          },
          "metadata": {
            "tags": []
          },
          "execution_count": 13
        }
      ]
    },
    {
      "metadata": {
        "id": "opbDR89HPGdS",
        "colab_type": "code",
        "colab": {}
      },
      "cell_type": "code",
      "source": [
        "nm_per_country = df.groupby(['country'])['name'].count().reset_index(name=\"museum_count\")"
      ],
      "execution_count": 0,
      "outputs": []
    },
    {
      "metadata": {
        "id": "H9-UHBxZPQIV",
        "colab_type": "code",
        "outputId": "182b97d7-28d3-4f0c-f3b5-f9f1fae84e7b",
        "colab": {
          "base_uri": "https://localhost:8080/",
          "height": 376
        }
      },
      "cell_type": "code",
      "source": [
        "_ = plt.bar(nm_per_country.country.values, nm_per_country.museum_count.values)\n",
        "_ = plt.title('Museum Count by country')\n",
        "_ = plt.xlabel('Country')\n",
        "_ = plt.ylabel('# museums')"
      ],
      "execution_count": 0,
      "outputs": [
        {
          "output_type": "display_data",
          "data": {
            "image/png": "[encoded data removed]",
            "text/plain": [
              "<Figure size 576x396 with 1 Axes>"
            ]
          },
          "metadata": {
            "tags": []
          }
        }
      ]
    },
    {
      "metadata": {
        "id": "mQ7fr5-ZPKyK",
        "colab_type": "code",
        "outputId": "040434ea-88f2-4adc-9657-8c2a13f9a69c",
        "colab": {
          "base_uri": "https://localhost:8080/",
          "height": 376
        }
      },
      "cell_type": "code",
      "source": [
        "temp = df.groupby(['city'])['name'].count().reset_index(name='museum_count');\n",
        "\n",
        "_ = plt.bar(range(len(temp)), temp.museum_count.values)\n",
        "_ = plt.title('Museum Count by city')\n",
        "_ = plt.xlabel('City')\n",
        "_ = plt.ylabel('# museums')"
      ],
      "execution_count": 0,
      "outputs": [
        {
          "output_type": "display_data",
          "data": {
            "image/png": "[encoded data removed]",
            "text/plain": [
              "<Figure size 576x396 with 1 Axes>"
            ]
          },
          "metadata": {
            "tags": []
          }
        }
      ]
    },
    {
      "metadata": {
        "id": "UvDfZdoTQiW1",
        "colab_type": "code",
        "outputId": "c2283ddf-ab56-49f7-eaed-b8befd0d18f7",
        "colab": {
          "base_uri": "https://localhost:8080/",
          "height": 376
        }
      },
      "cell_type": "code",
      "source": [
        "x = np.linspace(df.population.min(), df.population.max(), len(temp))\n",
        "p = plt.scatter(x, temp['museum_count'])\n",
        "_ = plt.title('Museum Count by city population')\n",
        "_ = plt.xlabel('Population')\n",
        "_ = plt.ylabel('# museums')"
      ],
      "execution_count": 0,
      "outputs": [
        {
          "output_type": "display_data",
          "data": {
            "image/png": "[encoded data removed]",
            "text/plain": [
              "<Figure size 576x396 with 1 Axes>"
            ]
          },
          "metadata": {
            "tags": []
          }
        }
      ]
    },
    {
      "metadata": {
        "id": "qEPaqeo8WIba",
        "colab_type": "code",
        "outputId": "840faa5c-20d2-47e8-98f5-8a2ba87fcb79",
        "colab": {
          "base_uri": "https://localhost:8080/",
          "height": 228
        }
      },
      "cell_type": "code",
      "source": [
        "temp = df.groupby(['city']).sum()\n",
        "temp.head()"
      ],
      "execution_count": 0,
      "outputs": [
        {
          "output_type": "execute_result",
          "data": {
            "text/html": [
              "<div>\n",
              "<style scoped>\n",
              "    .dataframe tbody tr th:only-of-type {\n",
              "        vertical-align: middle;\n",
              "    }\n",
              "\n",
              "    .dataframe tbody tr th {\n",
              "        vertical-align: top;\n",
              "    }\n",
              "\n",
              "    .dataframe thead th {\n",
              "        text-align: right;\n",
              "    }\n",
              "</style>\n",
              "<table border=\"1\" class=\"dataframe\">\n",
              "  <thead>\n",
              "    <tr style=\"text-align: right;\">\n",
              "      <th></th>\n",
              "      <th>visitors</th>\n",
              "      <th>population</th>\n",
              "      <th>year</th>\n",
              "    </tr>\n",
              "    <tr>\n",
              "      <th>city</th>\n",
              "      <th></th>\n",
              "      <th></th>\n",
              "      <th></th>\n",
              "    </tr>\n",
              "  </thead>\n",
              "  <tbody>\n",
              "    <tr>\n",
              "      <th>Amsterdam</th>\n",
              "      <td>4260000</td>\n",
              "      <td>1491622</td>\n",
              "      <td>4034</td>\n",
              "    </tr>\n",
              "    <tr>\n",
              "      <th>Beijing</th>\n",
              "      <td>12045625</td>\n",
              "      <td>39224736</td>\n",
              "      <td>4034</td>\n",
              "    </tr>\n",
              "    <tr>\n",
              "      <th>Chongqing</th>\n",
              "      <td>7502000</td>\n",
              "      <td>11901084</td>\n",
              "      <td>6051</td>\n",
              "    </tr>\n",
              "    <tr>\n",
              "      <th>Edinburgh</th>\n",
              "      <td>2165601</td>\n",
              "      <td>435794</td>\n",
              "      <td>2017</td>\n",
              "    </tr>\n",
              "    <tr>\n",
              "      <th>Florence</th>\n",
              "      <td>2200000</td>\n",
              "      <td>347194</td>\n",
              "      <td>2017</td>\n",
              "    </tr>\n",
              "  </tbody>\n",
              "</table>\n",
              "</div>"
            ],
            "text/plain": [
              "           visitors  population  year\n",
              "city                                 \n",
              "Amsterdam   4260000     1491622  4034\n",
              "Beijing    12045625    39224736  4034\n",
              "Chongqing   7502000    11901084  6051\n",
              "Edinburgh   2165601      435794  2017\n",
              "Florence    2200000      347194  2017"
            ]
          },
          "metadata": {
            "tags": []
          },
          "execution_count": 18
        }
      ]
    },
    {
      "metadata": {
        "id": "dx8vqjreXUdH",
        "colab_type": "code",
        "outputId": "cea4b535-afdf-47bc-c543-4d94c803f567",
        "colab": {
          "base_uri": "https://localhost:8080/",
          "height": 376
        }
      },
      "cell_type": "code",
      "source": [
        "p = plt.scatter(temp.population, temp['visitors'])\n",
        "_ = plt.title('Museum Visits by city population')\n",
        "_ = plt.xlabel('Population')\n",
        "_ = plt.ylabel('Total Visits')"
      ],
      "execution_count": 0,
      "outputs": [
        {
          "output_type": "display_data",
          "data": {
            "image/png": "[encoded data removed]",
            "text/plain": [
              "<Figure size 576x396 with 1 Axes>"
            ]
          },
          "metadata": {
            "tags": []
          }
        }
      ]
    },
    {
      "metadata": {
        "id": "dHzrEcizUpWe",
        "colab_type": "code",
        "colab": {}
      },
      "cell_type": "code",
      "source": [
        "from sklearn import linear_model"
      ],
      "execution_count": 0,
      "outputs": []
    },
    {
      "metadata": {
        "id": "tmOvFcOCW_xt",
        "colab_type": "code",
        "outputId": "62f8f04e-8190-4736-c484-2e0f0aef106d",
        "colab": {
          "base_uri": "https://localhost:8080/",
          "height": 52
        }
      },
      "cell_type": "code",
      "source": [
        "X = temp.population.values.reshape(-1, 1)\n",
        "y = temp.visitors.values.reshape(-1, 1)\n",
        "\n",
        "clf = linear_model.LinearRegression()\n",
        "clf.fit(X, y)"
      ],
      "execution_count": 0,
      "outputs": [
        {
          "output_type": "execute_result",
          "data": {
            "text/plain": [
              "LinearRegression(copy_X=True, fit_intercept=True, n_jobs=None,\n",
              "         normalize=False)"
            ]
          },
          "metadata": {
            "tags": []
          },
          "execution_count": 21
        }
      ]
    },
    {
      "metadata": {
        "id": "WU8mSjWWXHMF",
        "colab_type": "code",
        "outputId": "65702713-a01e-4192-cdf2-6a9a82bc8b14",
        "colab": {
          "base_uri": "https://localhost:8080/",
          "height": 376
        }
      },
      "cell_type": "code",
      "source": [
        "p = plt.scatter(temp.population, temp['visitors'])\n",
        "_ = plt.title('Museum Visits by city population')\n",
        "_ = plt.xlabel('Population')\n",
        "_ = plt.ylabel('Total Visits')\n",
        "\n",
        "y_hat = clf.predict(X)\n",
        "_ = plt.plot(X, y_hat, color='blue', linewidth=3)\n"
      ],
      "execution_count": 0,
      "outputs": [
        {
          "output_type": "display_data",
          "data": {
            "image/png": "[encoded data removed]",
            "text/plain": [
              "<Figure size 576x396 with 1 Axes>"
            ]
          },
          "metadata": {
            "tags": []
          }
        }
      ]
    },
    {
      "metadata": {
        "id": "FFjry5qirv_A",
        "colab_type": "code",
        "colab": {}
      },
      "cell_type": "code",
      "source": [
        ""
      ],
      "execution_count": 0,
      "outputs": []
    }
  ]
}